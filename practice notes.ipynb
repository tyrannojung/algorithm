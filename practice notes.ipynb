{
 "cells": [
  {
   "cell_type": "code",
   "execution_count": 6,
   "id": "adb15f64",
   "metadata": {},
   "outputs": [
    {
     "name": "stdout",
     "output_type": "stream",
     "text": [
      "hi\n"
     ]
    }
   ],
   "source": [
    "print(\"hi\");"
   ]
  },
  {
   "cell_type": "code",
   "execution_count": 11,
   "id": "27e0bd42",
   "metadata": {},
   "outputs": [
    {
     "name": "stdout",
     "output_type": "stream",
     "text": [
      "1\n",
      "1\n"
     ]
    }
   ],
   "source": [
    "n = input()\n",
    "print(n)\n"
   ]
  },
  {
   "cell_type": "code",
   "execution_count": 16,
   "id": "71df5069",
   "metadata": {},
   "outputs": [
    {
     "name": "stdout",
     "output_type": "stream",
     "text": [
      "10\n",
      "[0, 1, 2, 3, 4, 5, 6, 7, 8, 9]\n",
      "[0, 1, 2, 3, 4, 5, 6, 7, 8, 9]\n",
      "[0, 1, 2, 3, 4, 5, 6, 7, 8, 9]\n",
      "1 2 3 4 5\n",
      "[1, 2, 3, 4, 5]\n"
     ]
    }
   ],
   "source": [
    "#range\n",
    "print(10)\n",
    "print(list(range(0,10,1)))\n",
    "print(list(range(0,10)))\n",
    "print(list(range(10)))\n",
    "\n",
    "#input, map, split\n",
    "print(list(map(int, input().split())))"
   ]
  },
  {
   "cell_type": "code",
   "execution_count": 26,
   "id": "04012d30",
   "metadata": {},
   "outputs": [
    {
     "name": "stdout",
     "output_type": "stream",
     "text": [
      "3\n",
      "123\n",
      "6\n"
     ]
    }
   ],
   "source": [
    "#N 개의 숫자가 공백 없이 써 있다. 이 숫자를 모두 합해 출력하는 프로그램을 작성하시오.\n",
    "#입력 : 첫번째 줄에 숫자의 개수 N(1 <= N <= 100), 2번째 줄에 숫자 N개가 공백없이 주어진다.\n",
    "#출력 : 입력으로 주어진 숫자 N개의 합을 출력한다.\n",
    "\n",
    "n = int(input())\n",
    "N = list(input())\n",
    "total = 0\n",
    "\n",
    "for i in range(n):\n",
    "    total += int(N[i])\n",
    "    \n",
    "print(total)\n",
    "\n",
    "#내 생각 : 어떻게든 결과만 잘나오면 되는것인가?.. 제약조건에 대해 빡빡하지는 않다.\n",
    "#프로그램이 내가 짠 코드에 대입하므로, 프로그램은 항상 옳게 결과를 입력한다. --> 불특정 다수의 이용자와는 다르다."
   ]
  },
  {
   "cell_type": "code",
   "execution_count": 53,
   "id": "b7a9d3ac",
   "metadata": {},
   "outputs": [
    {
     "name": "stdout",
     "output_type": "stream",
     "text": [
      "1\n",
      "1\n",
      "100.0\n"
     ]
    }
   ],
   "source": [
    "#세준이는 기말고사를 망쳤다. 그래서 점수를 조작해 집에 가져가기로 결심했다. 일단 세준이는 자기 점수중 최댓값을 골랐다. 그런 다음 최댓값을 M이라 할때 모든\n",
    "#점수를 점수 / M * 100 으로 고쳤다. 예를들어 세준이의 최고점이 70점, 수학 점수가 50점이라면 수학 점수는 50 / 70 * 100이므로 71.43이다. 세준이\n",
    "#의 성적을 이 방법으로 계산했을 때 새로운 평균을 구하는 프로그램을 작성하시오.\n",
    "\n",
    "#입력 : 1번째 줄에 시험을 본 과목의 개수 N이 주어진다. 해당 값은 1,000보다 작거나 같다. 2번째 줄에 세준이의 현재 성적이 주어진다. 해당 값은 100보다\n",
    "#작거나 같은, 음이 아닌 정수이고, 적어도 1개의 값은 0보다 크다.\n",
    "\n",
    "#출력 : 1번째 줄에 새로운 평균을 출력한다. 실제 정답과 출력값의 절대 오차가 10^-2이하이면 정답이다.\n",
    "\n",
    "n = int(input())\n",
    "n_list = list(map(int,input().split()))\n",
    "n_list_max = max(n_list)\n",
    "l_sum = 0\n",
    "\n",
    "#print(\"출력 : \" + str(n))\n",
    "#print(\"출력 : \" + str(n_list))\n",
    "#print(\"출력 : \" + str(n_list_max))\n",
    "\n",
    "for i in range(n):\n",
    "    l_sum += (n_list[i] / n_list_max) * 100\n",
    "\n",
    "print(l_sum / n)\n",
    "\n",
    "\n",
    "#풀이\n",
    "#n = input()\n",
    "#mylist = list(map(int, input().split()))\n",
    "#mymax = max(mylist)\n",
    "#sum = sum(mylist)\n",
    "\n",
    "#print(sum * 100 / mymax / int(n))"
   ]
  },
  {
   "cell_type": "code",
   "execution_count": 54,
   "id": "ced1e820",
   "metadata": {},
   "outputs": [],
   "source": [
    "# prefix sum(구간 합)\n",
    "# N개의 원소로 이루어진 배열이 주어졌을때, 반복문을통해 부분 배열의 합을 구하려면, O(n)이 걸리지만, 누적합을 이용하면 O(N+M)으로 구할 수 있다.\n",
    "# 설명잘한 사이트 : https://www.crocus.co.kr/843"
   ]
  },
  {
   "cell_type": "code",
   "execution_count": 1,
   "id": "7101b57f",
   "metadata": {},
   "outputs": [
    {
     "name": "stdout",
     "output_type": "stream",
     "text": [
      "5 3\n",
      "5 4 3 2 1\n",
      "[5, 9, 12, 14, 15]\n",
      "1 3\n",
      "12\n",
      "2 4\n",
      "9\n",
      "5 5\n",
      "1\n"
     ]
    }
   ],
   "source": [
    "# 수 N개가 주어졌을 때 i번째 수에서 j번째 수까지의 합을 구하는 프로그램을 작성하시오.\n",
    "# 1번째 줄에 수의 개수 N(1 <= N <= 100,000), 합을 구해야 하는 횟수 M(1 <= M <= 100,000), 2번째 줄에 N개의 수가 주어진다.\n",
    "# 각 수는 1,000보다 작거나 같은 자연수다. 3번째 줄부터는 M개의 줄에 합을 구해야 하는 구간 i와 j가 주어진다.\n",
    "\n",
    "\n",
    "n = list(map(int,input().split()))\n",
    "rcount = n[0]\n",
    "scount = n[1]\n",
    "\n",
    "m = list(map(int, input().split()))\n",
    "ml = list();\n",
    "mlsum = 0\n",
    "\n",
    "for i in range(rcount):\n",
    "    mlsum += m[i]\n",
    "    ml.append(mlsum)\n",
    "    \n",
    "print(ml)\n",
    "    \n",
    "for i in range(scount):\n",
    "    o = list(map(int, input().split()))\n",
    "    p = ml[o[1] -1]\n",
    "    q = 0\n",
    "    if o[0]-2 >= 0:\n",
    "        q = ml[o[0]-2]\n",
    "        \n",
    "    print(p - q)\n",
    "    \n",
    "\n",
    "\n",
    "#풀이\n",
    "# import sys\n",
    "# input = sys.stdin.readline\n",
    "# suNo, quizNo = map(int, input().split())\n",
    "# numbers = list(map(int, input().split()))\n",
    "# prefix_sum = [0]\n",
    "# temp = 0\n",
    "\n",
    "# for i in numbers:\n",
    "#     temp = temp + i\n",
    "#     prefix_sum.append(temp)\n",
    "    \n",
    "# for i in range(quizNo):\n",
    "#     s, e = map(int, input().split())\n",
    "#     print(prefix_sum[e] - prefix_sum[s-1])\n",
    "\n",
    "\n",
    "\n"
   ]
  },
  {
   "cell_type": "code",
   "execution_count": 20,
   "id": "4e9d8ffb",
   "metadata": {},
   "outputs": [
    {
     "name": "stdout",
     "output_type": "stream",
     "text": [
      "2\n",
      "3 10\n",
      "65.0\n"
     ]
    }
   ],
   "source": [
    "#복습\n",
    "#1\n",
    "#N 개의 숫자가 공백 없이 써 있다. 이 숫자를 모두 합해 출력하는 프로그램을 작성하시오.\n",
    "#입력 : 첫번째 줄에 숫자의 개수 N(1 <= N <= 100), 2번째 줄에 숫자 N개가 공백없이 주어진다.\n",
    "#출력 : 입력으로 주어진 숫자 N개의 합을 출력한다.\n",
    "\n",
    "#풀이\n",
    "# n = int(input())\n",
    "# n_number = list(input()) # list input주의해서 보자.\n",
    "# n_sum = 0;\n",
    "\n",
    "# for i in range(n):\n",
    "#     n_sum += int(n_number[i])\n",
    "\n",
    "# print(n_sum)\n",
    "\n",
    "\n",
    "\n",
    "#2\n",
    "#세준이는 기말고사를 망쳤다. 그래서 점수를 조작해 집에 가져가기로 결심했다. 일단 세준이는 자기 점수중 최댓값을 골랐다. 그런 다음 최댓값을 M이라 할때 모든\n",
    "#점수를 점수 / M * 100 으로 고쳤다. 예를들어 세준이의 최고점이 70점, 수학 점수가 50점이라면 수학 점수는 50 / 70 * 100이므로 71.43이다. 세준이\n",
    "#의 성적을 이 방법으로 계산했을 때 새로운 평균을 구하는 프로그램을 작성하시오.\n",
    "\n",
    "#입력 : 1번째 줄에 시험을 본 과목의 개수 N이 주어진다. 해당 값은 1,000보다 작거나 같다. 2번째 줄에 세준이의 현재 성적이 주어진다. 해당 값은 100보다\n",
    "#작거나 같은, 음이 아닌 정수이고, 적어도 1개의 값은 0보다 크다.\n",
    "\n",
    "#출력 : 1번째 줄에 새로운 평균을 출력한다. 실제 정답과 출력값의 절대 오차가 10^-2이하이면 정답이다.\n",
    "\n",
    "# n = int(input())\n",
    "# point_list = list(map(int, input().split()))\n",
    "# point_max = max(point_list)\n",
    "# point_sum = sum(point_list)\n",
    "\n",
    "# print(point_sum/point_max*100/n)\n",
    "\n",
    "\n",
    "\n",
    "#3\n",
    "#pycharm을 통한 복습\n",
    "\n"
   ]
  }
 ],
 "metadata": {
  "kernelspec": {
   "display_name": "Python 3",
   "language": "python",
   "name": "python3"
  },
  "language_info": {
   "codemirror_mode": {
    "name": "ipython",
    "version": 3
   },
   "file_extension": ".py",
   "mimetype": "text/x-python",
   "name": "python",
   "nbconvert_exporter": "python",
   "pygments_lexer": "ipython3",
   "version": "3.8.8"
  }
 },
 "nbformat": 4,
 "nbformat_minor": 5
}
